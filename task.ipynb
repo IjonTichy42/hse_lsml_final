{
 "cells": [
  {
   "cell_type": "code",
   "execution_count": 1,
   "id": "47f3fd6d",
   "metadata": {},
   "outputs": [],
   "source": [
    "import os\n",
    "import sys\n",
    "import warnings\n",
    "import pprint\n",
    "import json\n",
    "\n",
    "import pandas as pd\n",
    "import numpy as np\n",
    "from sklearn.metrics import accuracy_score\n",
    "from sklearn.model_selection import train_test_split\n",
    "\n",
    "import mlflow\n",
    "import mlflow.sklearn\n",
    "\n",
    "from sklearn.naive_bayes import MultinomialNB\n",
    "from sklearn.linear_model import LogisticRegression\n",
    "from sklearn.ensemble import RandomForestClassifier\n",
    "from sklearn.svm import LinearSVC\n",
    "\n",
    "MLFLOW_SERVER_URL = 'http://127.0.0.1:5000/'\n",
    "experiment_name = 'soccer-news-experiment'\n",
    "\n",
    "warnings.filterwarnings(\"ignore\")\n"
   ]
  },
  {
   "cell_type": "code",
   "execution_count": 15,
   "id": "8dba678d",
   "metadata": {},
   "outputs": [],
   "source": [
    "data = pd.read_csv(\"ge_news.csv\")"
   ]
  },
  {
   "cell_type": "code",
   "execution_count": 16,
   "id": "04229079",
   "metadata": {},
   "outputs": [],
   "source": [
    "data[\"split_club\"] = data.club.str.split('[^a-zA-Z]')"
   ]
  },
  {
   "cell_type": "code",
   "execution_count": 17,
   "id": "fc2c35c7",
   "metadata": {},
   "outputs": [],
   "source": [
    "data[\"tokenized\"] = data.text.str.lower().str.split('[^a-zA-Z0-9µùàçéèçÇ]')"
   ]
  },
  {
   "cell_type": "code",
   "execution_count": 18,
   "id": "f8c32b56",
   "metadata": {},
   "outputs": [],
   "source": [
    "for row in data.iterrows():\n",
    "    row[1].tokenized = ' '.join([word for word in row[1].tokenized if word not in row[1].split_club])"
   ]
  },
  {
   "cell_type": "code",
   "execution_count": 19,
   "id": "3bdbf606",
   "metadata": {},
   "outputs": [],
   "source": [
    "data.drop([\"date\", \"time\", \"title\", \"text\", \"link\", \"split_club\"], axis = 1, inplace = True)"
   ]
  },
  {
   "cell_type": "code",
   "execution_count": 20,
   "id": "64e94174",
   "metadata": {},
   "outputs": [],
   "source": [
    "from sklearn.feature_extraction.text import TfidfVectorizer"
   ]
  },
  {
   "cell_type": "code",
   "execution_count": 21,
   "id": "5cabae7e",
   "metadata": {},
   "outputs": [],
   "source": [
    "vectorizer = TfidfVectorizer(min_df=3, max_features=500)"
   ]
  },
  {
   "cell_type": "code",
   "execution_count": 22,
   "id": "d60fc296",
   "metadata": {},
   "outputs": [],
   "source": [
    "df = pd.DataFrame(vectorizer.fit_transform(data.tokenized).toarray().tolist())"
   ]
  },
  {
   "cell_type": "code",
   "execution_count": 24,
   "id": "326d0ae5",
   "metadata": {},
   "outputs": [],
   "source": [
    "df[\"y\"] = data.club"
   ]
  },
  {
   "cell_type": "code",
   "execution_count": 25,
   "id": "35bec12c",
   "metadata": {},
   "outputs": [
    {
     "data": {
      "text/html": [
       "<div>\n",
       "<style scoped>\n",
       "    .dataframe tbody tr th:only-of-type {\n",
       "        vertical-align: middle;\n",
       "    }\n",
       "\n",
       "    .dataframe tbody tr th {\n",
       "        vertical-align: top;\n",
       "    }\n",
       "\n",
       "    .dataframe thead th {\n",
       "        text-align: right;\n",
       "    }\n",
       "</style>\n",
       "<table border=\"1\" class=\"dataframe\">\n",
       "  <thead>\n",
       "    <tr style=\"text-align: right;\">\n",
       "      <th></th>\n",
       "      <th>0</th>\n",
       "      <th>1</th>\n",
       "      <th>2</th>\n",
       "      <th>3</th>\n",
       "      <th>4</th>\n",
       "      <th>5</th>\n",
       "      <th>6</th>\n",
       "      <th>7</th>\n",
       "      <th>8</th>\n",
       "      <th>9</th>\n",
       "      <th>...</th>\n",
       "      <th>491</th>\n",
       "      <th>492</th>\n",
       "      <th>493</th>\n",
       "      <th>494</th>\n",
       "      <th>495</th>\n",
       "      <th>496</th>\n",
       "      <th>497</th>\n",
       "      <th>498</th>\n",
       "      <th>499</th>\n",
       "      <th>y</th>\n",
       "    </tr>\n",
       "  </thead>\n",
       "  <tbody>\n",
       "    <tr>\n",
       "      <th>0</th>\n",
       "      <td>0.057972</td>\n",
       "      <td>0.063357</td>\n",
       "      <td>0.065457</td>\n",
       "      <td>0.0</td>\n",
       "      <td>0.070633</td>\n",
       "      <td>0.0</td>\n",
       "      <td>0.000000</td>\n",
       "      <td>0.0</td>\n",
       "      <td>0.000000</td>\n",
       "      <td>0.000000</td>\n",
       "      <td>...</td>\n",
       "      <td>0.000000</td>\n",
       "      <td>0.152227</td>\n",
       "      <td>0.000000</td>\n",
       "      <td>0.0</td>\n",
       "      <td>0.0</td>\n",
       "      <td>0.000000</td>\n",
       "      <td>0.0</td>\n",
       "      <td>0.000000</td>\n",
       "      <td>0.041087</td>\n",
       "      <td>athletico-pr</td>\n",
       "    </tr>\n",
       "    <tr>\n",
       "      <th>1</th>\n",
       "      <td>0.000000</td>\n",
       "      <td>0.053242</td>\n",
       "      <td>0.000000</td>\n",
       "      <td>0.0</td>\n",
       "      <td>0.000000</td>\n",
       "      <td>0.0</td>\n",
       "      <td>0.000000</td>\n",
       "      <td>0.0</td>\n",
       "      <td>0.060013</td>\n",
       "      <td>0.053543</td>\n",
       "      <td>...</td>\n",
       "      <td>0.000000</td>\n",
       "      <td>0.042642</td>\n",
       "      <td>0.000000</td>\n",
       "      <td>0.0</td>\n",
       "      <td>0.0</td>\n",
       "      <td>0.099440</td>\n",
       "      <td>0.0</td>\n",
       "      <td>0.000000</td>\n",
       "      <td>0.034528</td>\n",
       "      <td>athletico-pr</td>\n",
       "    </tr>\n",
       "    <tr>\n",
       "      <th>2</th>\n",
       "      <td>0.000000</td>\n",
       "      <td>0.000000</td>\n",
       "      <td>0.000000</td>\n",
       "      <td>0.0</td>\n",
       "      <td>0.103110</td>\n",
       "      <td>0.0</td>\n",
       "      <td>0.000000</td>\n",
       "      <td>0.0</td>\n",
       "      <td>0.000000</td>\n",
       "      <td>0.000000</td>\n",
       "      <td>...</td>\n",
       "      <td>0.000000</td>\n",
       "      <td>0.074074</td>\n",
       "      <td>0.000000</td>\n",
       "      <td>0.0</td>\n",
       "      <td>0.0</td>\n",
       "      <td>0.000000</td>\n",
       "      <td>0.0</td>\n",
       "      <td>0.000000</td>\n",
       "      <td>0.059979</td>\n",
       "      <td>athletico-pr</td>\n",
       "    </tr>\n",
       "    <tr>\n",
       "      <th>3</th>\n",
       "      <td>0.000000</td>\n",
       "      <td>0.000000</td>\n",
       "      <td>0.000000</td>\n",
       "      <td>0.0</td>\n",
       "      <td>0.000000</td>\n",
       "      <td>0.0</td>\n",
       "      <td>0.000000</td>\n",
       "      <td>0.0</td>\n",
       "      <td>0.000000</td>\n",
       "      <td>0.000000</td>\n",
       "      <td>...</td>\n",
       "      <td>0.133025</td>\n",
       "      <td>0.113686</td>\n",
       "      <td>0.000000</td>\n",
       "      <td>0.0</td>\n",
       "      <td>0.0</td>\n",
       "      <td>0.000000</td>\n",
       "      <td>0.0</td>\n",
       "      <td>0.000000</td>\n",
       "      <td>0.000000</td>\n",
       "      <td>athletico-pr</td>\n",
       "    </tr>\n",
       "    <tr>\n",
       "      <th>4</th>\n",
       "      <td>0.000000</td>\n",
       "      <td>0.000000</td>\n",
       "      <td>0.000000</td>\n",
       "      <td>0.0</td>\n",
       "      <td>0.000000</td>\n",
       "      <td>0.0</td>\n",
       "      <td>0.000000</td>\n",
       "      <td>0.0</td>\n",
       "      <td>0.000000</td>\n",
       "      <td>0.000000</td>\n",
       "      <td>...</td>\n",
       "      <td>0.000000</td>\n",
       "      <td>0.000000</td>\n",
       "      <td>0.000000</td>\n",
       "      <td>0.0</td>\n",
       "      <td>0.0</td>\n",
       "      <td>0.000000</td>\n",
       "      <td>0.0</td>\n",
       "      <td>0.000000</td>\n",
       "      <td>0.118290</td>\n",
       "      <td>athletico-pr</td>\n",
       "    </tr>\n",
       "    <tr>\n",
       "      <th>...</th>\n",
       "      <td>...</td>\n",
       "      <td>...</td>\n",
       "      <td>...</td>\n",
       "      <td>...</td>\n",
       "      <td>...</td>\n",
       "      <td>...</td>\n",
       "      <td>...</td>\n",
       "      <td>...</td>\n",
       "      <td>...</td>\n",
       "      <td>...</td>\n",
       "      <td>...</td>\n",
       "      <td>...</td>\n",
       "      <td>...</td>\n",
       "      <td>...</td>\n",
       "      <td>...</td>\n",
       "      <td>...</td>\n",
       "      <td>...</td>\n",
       "      <td>...</td>\n",
       "      <td>...</td>\n",
       "      <td>...</td>\n",
       "      <td>...</td>\n",
       "    </tr>\n",
       "    <tr>\n",
       "      <th>139929</th>\n",
       "      <td>0.048024</td>\n",
       "      <td>0.000000</td>\n",
       "      <td>0.000000</td>\n",
       "      <td>0.0</td>\n",
       "      <td>0.000000</td>\n",
       "      <td>0.0</td>\n",
       "      <td>0.000000</td>\n",
       "      <td>0.0</td>\n",
       "      <td>0.000000</td>\n",
       "      <td>0.000000</td>\n",
       "      <td>...</td>\n",
       "      <td>0.049185</td>\n",
       "      <td>0.000000</td>\n",
       "      <td>0.027494</td>\n",
       "      <td>0.0</td>\n",
       "      <td>0.0</td>\n",
       "      <td>0.024506</td>\n",
       "      <td>0.0</td>\n",
       "      <td>0.098722</td>\n",
       "      <td>0.017018</td>\n",
       "      <td>cruzeiro</td>\n",
       "    </tr>\n",
       "    <tr>\n",
       "      <th>139930</th>\n",
       "      <td>0.000000</td>\n",
       "      <td>0.130793</td>\n",
       "      <td>0.000000</td>\n",
       "      <td>0.0</td>\n",
       "      <td>0.000000</td>\n",
       "      <td>0.0</td>\n",
       "      <td>0.144301</td>\n",
       "      <td>0.0</td>\n",
       "      <td>0.000000</td>\n",
       "      <td>0.000000</td>\n",
       "      <td>...</td>\n",
       "      <td>0.000000</td>\n",
       "      <td>0.000000</td>\n",
       "      <td>0.137033</td>\n",
       "      <td>0.0</td>\n",
       "      <td>0.0</td>\n",
       "      <td>0.000000</td>\n",
       "      <td>0.0</td>\n",
       "      <td>0.000000</td>\n",
       "      <td>0.084820</td>\n",
       "      <td>cruzeiro</td>\n",
       "    </tr>\n",
       "    <tr>\n",
       "      <th>139931</th>\n",
       "      <td>0.000000</td>\n",
       "      <td>0.000000</td>\n",
       "      <td>0.000000</td>\n",
       "      <td>0.0</td>\n",
       "      <td>0.000000</td>\n",
       "      <td>0.0</td>\n",
       "      <td>0.000000</td>\n",
       "      <td>0.0</td>\n",
       "      <td>0.000000</td>\n",
       "      <td>0.000000</td>\n",
       "      <td>...</td>\n",
       "      <td>0.000000</td>\n",
       "      <td>0.000000</td>\n",
       "      <td>0.000000</td>\n",
       "      <td>0.0</td>\n",
       "      <td>0.0</td>\n",
       "      <td>0.000000</td>\n",
       "      <td>0.0</td>\n",
       "      <td>0.000000</td>\n",
       "      <td>0.000000</td>\n",
       "      <td>cruzeiro</td>\n",
       "    </tr>\n",
       "    <tr>\n",
       "      <th>139932</th>\n",
       "      <td>0.000000</td>\n",
       "      <td>0.000000</td>\n",
       "      <td>0.000000</td>\n",
       "      <td>0.0</td>\n",
       "      <td>0.000000</td>\n",
       "      <td>0.0</td>\n",
       "      <td>0.000000</td>\n",
       "      <td>0.0</td>\n",
       "      <td>0.000000</td>\n",
       "      <td>0.000000</td>\n",
       "      <td>...</td>\n",
       "      <td>0.255854</td>\n",
       "      <td>0.000000</td>\n",
       "      <td>0.000000</td>\n",
       "      <td>0.0</td>\n",
       "      <td>0.0</td>\n",
       "      <td>0.000000</td>\n",
       "      <td>0.0</td>\n",
       "      <td>0.128384</td>\n",
       "      <td>0.000000</td>\n",
       "      <td>cruzeiro</td>\n",
       "    </tr>\n",
       "    <tr>\n",
       "      <th>139933</th>\n",
       "      <td>0.000000</td>\n",
       "      <td>0.000000</td>\n",
       "      <td>0.000000</td>\n",
       "      <td>0.0</td>\n",
       "      <td>0.000000</td>\n",
       "      <td>0.0</td>\n",
       "      <td>0.000000</td>\n",
       "      <td>0.0</td>\n",
       "      <td>0.000000</td>\n",
       "      <td>0.000000</td>\n",
       "      <td>...</td>\n",
       "      <td>0.000000</td>\n",
       "      <td>0.000000</td>\n",
       "      <td>0.000000</td>\n",
       "      <td>0.0</td>\n",
       "      <td>0.0</td>\n",
       "      <td>0.000000</td>\n",
       "      <td>0.0</td>\n",
       "      <td>0.000000</td>\n",
       "      <td>0.099037</td>\n",
       "      <td>cruzeiro</td>\n",
       "    </tr>\n",
       "  </tbody>\n",
       "</table>\n",
       "<p>139934 rows × 501 columns</p>\n",
       "</div>"
      ],
      "text/plain": [
       "               0         1         2    3         4    5         6    7  \\\n",
       "0       0.057972  0.063357  0.065457  0.0  0.070633  0.0  0.000000  0.0   \n",
       "1       0.000000  0.053242  0.000000  0.0  0.000000  0.0  0.000000  0.0   \n",
       "2       0.000000  0.000000  0.000000  0.0  0.103110  0.0  0.000000  0.0   \n",
       "3       0.000000  0.000000  0.000000  0.0  0.000000  0.0  0.000000  0.0   \n",
       "4       0.000000  0.000000  0.000000  0.0  0.000000  0.0  0.000000  0.0   \n",
       "...          ...       ...       ...  ...       ...  ...       ...  ...   \n",
       "139929  0.048024  0.000000  0.000000  0.0  0.000000  0.0  0.000000  0.0   \n",
       "139930  0.000000  0.130793  0.000000  0.0  0.000000  0.0  0.144301  0.0   \n",
       "139931  0.000000  0.000000  0.000000  0.0  0.000000  0.0  0.000000  0.0   \n",
       "139932  0.000000  0.000000  0.000000  0.0  0.000000  0.0  0.000000  0.0   \n",
       "139933  0.000000  0.000000  0.000000  0.0  0.000000  0.0  0.000000  0.0   \n",
       "\n",
       "               8         9  ...       491       492       493  494  495  \\\n",
       "0       0.000000  0.000000  ...  0.000000  0.152227  0.000000  0.0  0.0   \n",
       "1       0.060013  0.053543  ...  0.000000  0.042642  0.000000  0.0  0.0   \n",
       "2       0.000000  0.000000  ...  0.000000  0.074074  0.000000  0.0  0.0   \n",
       "3       0.000000  0.000000  ...  0.133025  0.113686  0.000000  0.0  0.0   \n",
       "4       0.000000  0.000000  ...  0.000000  0.000000  0.000000  0.0  0.0   \n",
       "...          ...       ...  ...       ...       ...       ...  ...  ...   \n",
       "139929  0.000000  0.000000  ...  0.049185  0.000000  0.027494  0.0  0.0   \n",
       "139930  0.000000  0.000000  ...  0.000000  0.000000  0.137033  0.0  0.0   \n",
       "139931  0.000000  0.000000  ...  0.000000  0.000000  0.000000  0.0  0.0   \n",
       "139932  0.000000  0.000000  ...  0.255854  0.000000  0.000000  0.0  0.0   \n",
       "139933  0.000000  0.000000  ...  0.000000  0.000000  0.000000  0.0  0.0   \n",
       "\n",
       "             496  497       498       499             y  \n",
       "0       0.000000  0.0  0.000000  0.041087  athletico-pr  \n",
       "1       0.099440  0.0  0.000000  0.034528  athletico-pr  \n",
       "2       0.000000  0.0  0.000000  0.059979  athletico-pr  \n",
       "3       0.000000  0.0  0.000000  0.000000  athletico-pr  \n",
       "4       0.000000  0.0  0.000000  0.118290  athletico-pr  \n",
       "...          ...  ...       ...       ...           ...  \n",
       "139929  0.024506  0.0  0.098722  0.017018      cruzeiro  \n",
       "139930  0.000000  0.0  0.000000  0.084820      cruzeiro  \n",
       "139931  0.000000  0.0  0.000000  0.000000      cruzeiro  \n",
       "139932  0.000000  0.0  0.128384  0.000000      cruzeiro  \n",
       "139933  0.000000  0.0  0.000000  0.099037      cruzeiro  \n",
       "\n",
       "[139934 rows x 501 columns]"
      ]
     },
     "execution_count": 25,
     "metadata": {},
     "output_type": "execute_result"
    }
   ],
   "source": [
    "df"
   ]
  },
  {
   "cell_type": "code",
   "execution_count": 26,
   "id": "6e3036af",
   "metadata": {},
   "outputs": [],
   "source": [
    "train, test = train_test_split(df)\n",
    "\n",
    "train_x = train.drop(\"y\", axis=1)\n",
    "test_x = test.drop(\"y\", axis=1)\n",
    "train_y = train[[\"y\"]]\n",
    "test_y = test[[\"y\"]]"
   ]
  },
  {
   "cell_type": "code",
   "execution_count": 3,
   "id": "720d864d",
   "metadata": {},
   "outputs": [],
   "source": [
    "client = mlflow.tracking.MlflowClient(MLFLOW_SERVER_URL)\n",
    "\n",
    "mlflow.set_tracking_uri(MLFLOW_SERVER_URL)\n",
    "\n",
    "mlflow.set_experiment(experiment_name)\n"
   ]
  },
  {
   "cell_type": "code",
   "execution_count": 5,
   "id": "79d6d0bd",
   "metadata": {},
   "outputs": [],
   "source": [
    "os.system('MLFLOW_TRACKING_URI=http://0.0.0.0:5000 mlflow models serve -m \"models:/soccer-model/Production\" -p 5005 --no-conda &')\n"
   ]
  },
  {
   "cell_type": "code",
   "execution_count": 6,
   "id": "ad5dbc84",
   "metadata": {},
   "outputs": [
    {
     "data": {
      "text/plain": [
       "[<RunInfo: artifact_uri='./artifacts/1/6bceb36bb95f4f89b41f437b84ec62ea/artifacts', end_time=1630852228587, experiment_id='1', lifecycle_stage='active', run_id='6bceb36bb95f4f89b41f437b84ec62ea', run_uuid='6bceb36bb95f4f89b41f437b84ec62ea', start_time=1630852136072, status='FINISHED', user_id='ijontichy42'>,\n",
       " <RunInfo: artifact_uri='./artifacts/1/b1133b4bf5554b4191404a7aa0ebb2d7/artifacts', end_time=1630852253775, experiment_id='1', lifecycle_stage='active', run_id='b1133b4bf5554b4191404a7aa0ebb2d7', run_uuid='b1133b4bf5554b4191404a7aa0ebb2d7', start_time=1630852228597, status='FINISHED', user_id='ijontichy42'>,\n",
       " <RunInfo: artifact_uri='./artifacts/1/eff3dd30b5854fad922981625251c0f9/artifacts', end_time=1630852255882, experiment_id='1', lifecycle_stage='active', run_id='eff3dd30b5854fad922981625251c0f9', run_uuid='eff3dd30b5854fad922981625251c0f9', start_time=1630852253787, status='FINISHED', user_id='ijontichy42'>,\n",
       " <RunInfo: artifact_uri='./artifacts/1/81b6d954fc254aa6b8612b683b4fa311/artifacts', end_time=1630852277591, experiment_id='1', lifecycle_stage='active', run_id='81b6d954fc254aa6b8612b683b4fa311', run_uuid='81b6d954fc254aa6b8612b683b4fa311', start_time=1630852255900, status='FINISHED', user_id='ijontichy42'>]"
      ]
     },
     "execution_count": 6,
     "metadata": {},
     "output_type": "execute_result"
    }
   ],
   "source": [
    "sorted(client.list_run_infos(experiment.experiment_id), key=lambda x: x.start_time)"
   ]
  },
  {
   "cell_type": "code",
   "execution_count": 43,
   "id": "18d6a082",
   "metadata": {},
   "outputs": [
    {
     "data": {
      "text/plain": [
       "<RunInfo: artifact_uri='./artifacts/3/514c28e35377483b93c670b67c1dcc86/artifacts', end_time=1630843672451, experiment_id='3', lifecycle_stage='active', run_id='514c28e35377483b93c670b67c1dcc86', run_uuid='514c28e35377483b93c670b67c1dcc86', start_time=1630843653436, status='FINISHED', user_id='ijontichy42'>"
      ]
     },
     "execution_count": 43,
     "metadata": {},
     "output_type": "execute_result"
    }
   ],
   "source": [
    "client.list_run_infos(experiment.experiment_id)[0]"
   ]
  },
  {
   "cell_type": "code",
   "execution_count": 45,
   "id": "e3891780",
   "metadata": {},
   "outputs": [
    {
     "data": {
      "text/plain": [
       "<RunInfo: artifact_uri='./artifacts/3/514c28e35377483b93c670b67c1dcc86/artifacts', end_time=1630843672451, experiment_id='3', lifecycle_stage='active', run_id='514c28e35377483b93c670b67c1dcc86', run_uuid='514c28e35377483b93c670b67c1dcc86', start_time=1630843653436, status='FINISHED', user_id='ijontichy42'>"
      ]
     },
     "execution_count": 45,
     "metadata": {},
     "output_type": "execute_result"
    }
   ],
   "source": [
    "sorted(client.list_run_infos(experiment.experiment_id), key=lambda x: x.end_time)[-1]"
   ]
  },
  {
   "cell_type": "code",
   "execution_count": 47,
   "id": "80f0b115",
   "metadata": {},
   "outputs": [
    {
     "name": "stdout",
     "output_type": "stream",
     "text": [
      "Random Forest\n",
      "  Accuracy: 0.5762062657214727\n"
     ]
    },
    {
     "name": "stderr",
     "output_type": "stream",
     "text": [
      "2021/09/05 15:19:30 INFO mlflow.tracking._model_registry.client: Waiting up to 300 seconds for model version to finish creation.                     Model name: soccer-model, version 1\n"
     ]
    },
    {
     "name": "stdout",
     "output_type": "stream",
     "text": [
      "Linear SVC\n",
      "  Accuracy: 0.701577864166476\n"
     ]
    },
    {
     "name": "stderr",
     "output_type": "stream",
     "text": [
      "2021/09/05 15:19:59 INFO mlflow.tracking._model_registry.client: Waiting up to 300 seconds for model version to finish creation.                     Model name: soccer-model, version 2\n"
     ]
    },
    {
     "name": "stdout",
     "output_type": "stream",
     "text": [
      "Multinomial Naive Bayes\n",
      "  Accuracy: 0.5087754402012349\n"
     ]
    },
    {
     "name": "stderr",
     "output_type": "stream",
     "text": [
      "2021/09/05 15:20:01 INFO mlflow.tracking._model_registry.client: Waiting up to 300 seconds for model version to finish creation.                     Model name: soccer-model, version 3\n"
     ]
    },
    {
     "name": "stdout",
     "output_type": "stream",
     "text": [
      "Logistic Regression\n",
      "  Accuracy: 0.6975188657672079\n"
     ]
    },
    {
     "name": "stderr",
     "output_type": "stream",
     "text": [
      "2021/09/05 15:20:26 INFO mlflow.tracking._model_registry.client: Waiting up to 300 seconds for model version to finish creation.                     Model name: soccer-model, version 4\n"
     ]
    }
   ],
   "source": [
    "models = [\n",
    "    (\"Random Forest\", RandomForestClassifier(n_estimators=200, max_depth=10, random_state=42)),\n",
    "    (\"Linear SVC\", LinearSVC()),\n",
    "    (\"Multinomial Naive Bayes\", MultinomialNB()),\n",
    "    (\"Logistic Regression\", LogisticRegression(random_state=0)),\n",
    "]\n",
    "\n",
    "staging_acc = 0\n",
    "staging_version = 0\n",
    "\n",
    "client.delete_registered_model(\"soccer-model\")\n",
    "client.create_registered_model(\"soccer-model\")\n",
    "\n",
    "for model in models:\n",
    "    with mlflow.start_run():\n",
    "\n",
    "        model[1].fit(train_x, train_y)\n",
    "\n",
    "        y_pred = model[1].predict(test_x)\n",
    "        accuracy = accuracy_score(test_y, y_pred)\n",
    "\n",
    "        print(\"%s\" % (model[0]))\n",
    "        print(\"  Accuracy: %s\" % accuracy)\n",
    "\n",
    "        mlflow.log_param(\"accuracy\", accuracy)\n",
    "\n",
    "        mlflow.sklearn.log_model(model[1], \"model\")\n",
    "        \n",
    "        experiment = client.get_experiment_by_name(experiment_name)\n",
    "        run_info = sorted(client.list_run_infos(experiment.experiment_id), key=lambda x: x.start_time)[-1]\n",
    "        \n",
    "        result = client.create_model_version(\n",
    "            name=\"soccer-model\",\n",
    "            source=f\"{run_info.artifact_uri}/model\",\n",
    "            run_id=run_info.run_id\n",
    "        )\n",
    "        \n",
    "        if accuracy > staging_acc:\n",
    "            client.transition_model_version_stage(\n",
    "                name=\"soccer-model\",\n",
    "                version=result.version,\n",
    "                stage=\"Staging\"\n",
    "            )\n",
    "            staging_version = result.version\n",
    "            staging_acc = accuracy"
   ]
  },
  {
   "cell_type": "code",
   "execution_count": 48,
   "id": "83de5b29",
   "metadata": {},
   "outputs": [
    {
     "data": {
      "text/plain": [
       "<ModelVersion: creation_timestamp=1630844399300, current_stage='Production', description='', last_updated_timestamp=1630844451598, name='soccer-model', run_id='75078b66870b465bab5eeaec3cc31356', run_link='', source='./artifacts/3/75078b66870b465bab5eeaec3cc31356/artifacts/model', status='READY', status_message='', tags={}, user_id='', version='2'>"
      ]
     },
     "execution_count": 48,
     "metadata": {},
     "output_type": "execute_result"
    }
   ],
   "source": [
    "client.transition_model_version_stage(\n",
    "    name=\"soccer-model\",\n",
    "    version=staging_version,\n",
    "    stage=\"Production\"\n",
    ")"
   ]
  },
  {
   "cell_type": "code",
   "execution_count": 49,
   "id": "fd52485e",
   "metadata": {},
   "outputs": [
    {
     "data": {
      "text/plain": [
       "0"
      ]
     },
     "execution_count": 49,
     "metadata": {},
     "output_type": "execute_result"
    },
    {
     "name": "stderr",
     "output_type": "stream",
     "text": [
      "2021/09/05 15:20:53 INFO mlflow.models.cli: Selected backend for flavor 'python_function'\n",
      "2021/09/05 15:20:53 INFO mlflow.pyfunc.backend: === Running command 'gunicorn --timeout=60 -b 127.0.0.1:5005 -w 1 ${GUNICORN_CMD_ARGS} -- mlflow.pyfunc.scoring_server.wsgi:app'\n",
      "[2021-09-05 15:20:54 +0300] [21639] [INFO] Starting gunicorn 20.1.0\n",
      "[2021-09-05 15:20:54 +0300] [21639] [INFO] Listening at: http://127.0.0.1:5005 (21639)\n",
      "[2021-09-05 15:20:54 +0300] [21639] [INFO] Using worker: sync\n",
      "[2021-09-05 15:20:54 +0300] [21640] [INFO] Booting worker with pid: 21640\n"
     ]
    }
   ],
   "source": [
    "os.system('MLFLOW_TRACKING_URI=http://0.0.0.0:5000 mlflow models serve -m \"models:/soccer-model/Production\" -p 5005 --no-conda &')\n"
   ]
  },
  {
   "cell_type": "code",
   "execution_count": 35,
   "id": "e0c00cdb",
   "metadata": {},
   "outputs": [
    {
     "data": {
      "text/html": [
       "<div>\n",
       "<style scoped>\n",
       "    .dataframe tbody tr th:only-of-type {\n",
       "        vertical-align: middle;\n",
       "    }\n",
       "\n",
       "    .dataframe tbody tr th {\n",
       "        vertical-align: top;\n",
       "    }\n",
       "\n",
       "    .dataframe thead th {\n",
       "        text-align: right;\n",
       "    }\n",
       "</style>\n",
       "<table border=\"1\" class=\"dataframe\">\n",
       "  <thead>\n",
       "    <tr style=\"text-align: right;\">\n",
       "      <th></th>\n",
       "      <th>club</th>\n",
       "      <th>tokenized</th>\n",
       "    </tr>\n",
       "  </thead>\n",
       "  <tbody>\n",
       "    <tr>\n",
       "      <th>0</th>\n",
       "      <td>athletico-pr</td>\n",
       "      <td>[0.0579724562245176, 0.06335652176413933, 0.06...</td>\n",
       "    </tr>\n",
       "    <tr>\n",
       "      <th>1</th>\n",
       "      <td>athletico-pr</td>\n",
       "      <td>[0.0, 0.05324224711869487, 0.0, 0.0, 0.0, 0.0,...</td>\n",
       "    </tr>\n",
       "    <tr>\n",
       "      <th>2</th>\n",
       "      <td>athletico-pr</td>\n",
       "      <td>[0.0, 0.0, 0.0, 0.0, 0.10310967135352692, 0.0,...</td>\n",
       "    </tr>\n",
       "    <tr>\n",
       "      <th>3</th>\n",
       "      <td>athletico-pr</td>\n",
       "      <td>[0.0, 0.0, 0.0, 0.0, 0.0, 0.0, 0.0, 0.0, 0.0, ...</td>\n",
       "    </tr>\n",
       "    <tr>\n",
       "      <th>4</th>\n",
       "      <td>athletico-pr</td>\n",
       "      <td>[0.0, 0.0, 0.0, 0.0, 0.0, 0.0, 0.0, 0.0, 0.0, ...</td>\n",
       "    </tr>\n",
       "    <tr>\n",
       "      <th>...</th>\n",
       "      <td>...</td>\n",
       "      <td>...</td>\n",
       "    </tr>\n",
       "    <tr>\n",
       "      <th>139929</th>\n",
       "      <td>cruzeiro</td>\n",
       "      <td>[0.04802359185840033, 0.0, 0.0, 0.0, 0.0, 0.0,...</td>\n",
       "    </tr>\n",
       "    <tr>\n",
       "      <th>139930</th>\n",
       "      <td>cruzeiro</td>\n",
       "      <td>[0.0, 0.1307929344891117, 0.0, 0.0, 0.0, 0.0, ...</td>\n",
       "    </tr>\n",
       "    <tr>\n",
       "      <th>139931</th>\n",
       "      <td>cruzeiro</td>\n",
       "      <td>[0.0, 0.0, 0.0, 0.0, 0.0, 0.0, 0.0, 0.0, 0.0, ...</td>\n",
       "    </tr>\n",
       "    <tr>\n",
       "      <th>139932</th>\n",
       "      <td>cruzeiro</td>\n",
       "      <td>[0.0, 0.0, 0.0, 0.0, 0.0, 0.0, 0.0, 0.0, 0.0, ...</td>\n",
       "    </tr>\n",
       "    <tr>\n",
       "      <th>139933</th>\n",
       "      <td>cruzeiro</td>\n",
       "      <td>[0.0, 0.0, 0.0, 0.0, 0.0, 0.0, 0.0, 0.0, 0.0, ...</td>\n",
       "    </tr>\n",
       "  </tbody>\n",
       "</table>\n",
       "<p>139934 rows × 2 columns</p>\n",
       "</div>"
      ],
      "text/plain": [
       "                club                                          tokenized\n",
       "0       athletico-pr  [0.0579724562245176, 0.06335652176413933, 0.06...\n",
       "1       athletico-pr  [0.0, 0.05324224711869487, 0.0, 0.0, 0.0, 0.0,...\n",
       "2       athletico-pr  [0.0, 0.0, 0.0, 0.0, 0.10310967135352692, 0.0,...\n",
       "3       athletico-pr  [0.0, 0.0, 0.0, 0.0, 0.0, 0.0, 0.0, 0.0, 0.0, ...\n",
       "4       athletico-pr  [0.0, 0.0, 0.0, 0.0, 0.0, 0.0, 0.0, 0.0, 0.0, ...\n",
       "...              ...                                                ...\n",
       "139929      cruzeiro  [0.04802359185840033, 0.0, 0.0, 0.0, 0.0, 0.0,...\n",
       "139930      cruzeiro  [0.0, 0.1307929344891117, 0.0, 0.0, 0.0, 0.0, ...\n",
       "139931      cruzeiro  [0.0, 0.0, 0.0, 0.0, 0.0, 0.0, 0.0, 0.0, 0.0, ...\n",
       "139932      cruzeiro  [0.0, 0.0, 0.0, 0.0, 0.0, 0.0, 0.0, 0.0, 0.0, ...\n",
       "139933      cruzeiro  [0.0, 0.0, 0.0, 0.0, 0.0, 0.0, 0.0, 0.0, 0.0, ...\n",
       "\n",
       "[139934 rows x 2 columns]"
      ]
     },
     "execution_count": 35,
     "metadata": {},
     "output_type": "execute_result"
    }
   ],
   "source": [
    "data"
   ]
  },
  {
   "cell_type": "code",
   "execution_count": 53,
   "id": "216829ee",
   "metadata": {},
   "outputs": [
    {
     "name": "stdout",
     "output_type": "stream",
     "text": [
      "['atletico-mg', 'botafogo', 'botafogo', 'palmeiras', 'botafogo', 'gremio']\n",
      "                  y\n",
      "15485   atletico-mg\n",
      "25901      botafogo\n",
      "58711      flamengo\n",
      "106467    palmeiras\n",
      "31546      botafogo\n",
      "114912       santos\n"
     ]
    }
   ],
   "source": [
    "import requests\n",
    "url = f'http://127.0.0.1:5005/invocations'\n",
    "\n",
    "http_data = test_x[0:6].to_json(orient='split')\n",
    "\n",
    "response = requests.post(url=url, headers={'Content-Type': 'application/json'}, data=http_data)\n",
    "prod_pred = json.loads(response.text)\n",
    "print(prod_pred)\n",
    "print(test_y[:6])"
   ]
  },
  {
   "cell_type": "code",
   "execution_count": null,
   "id": "71f20e72",
   "metadata": {},
   "outputs": [],
   "source": []
  }
 ],
 "metadata": {
  "kernelspec": {
   "display_name": "Python 3 (ipykernel)",
   "language": "python",
   "name": "python3"
  },
  "language_info": {
   "codemirror_mode": {
    "name": "ipython",
    "version": 3
   },
   "file_extension": ".py",
   "mimetype": "text/x-python",
   "name": "python",
   "nbconvert_exporter": "python",
   "pygments_lexer": "ipython3",
   "version": "3.9.6"
  }
 },
 "nbformat": 4,
 "nbformat_minor": 5
}
